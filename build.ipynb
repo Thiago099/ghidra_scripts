{
 "cells": [
  {
   "cell_type": "code",
   "execution_count": 2,
   "metadata": {},
   "outputs": [],
   "source": [
    "\n",
    "import pandas as pd\n",
    "import json \n",
    "import os\n",
    "import re\n",
    "\n",
    "\n",
    "offsets = {}\n",
    "pattern = re.compile(r'offsets-(ae|se)-(.*).txt')\n",
    "for root, dirs, files in os.walk(\"data\"):\n",
    "    for file in files:\n",
    "        match = pattern.match(file)\n",
    "        if match:\n",
    "            gameVersion = match.group(1)\n",
    "            version = match.group(2)\n",
    "            df = pd.read_csv(\"data/\"+file, sep='\\t', header=None)\n",
    "            df[0] = df[0].apply(lambda x: int(x))\n",
    "            df[1] = df[1].apply(lambda x: \"0x\"+x)\n",
    "\n",
    "            offsets[version]={\n",
    "                \"game-version\":gameVersion,\n",
    "                \"skyrim-to-address\": dict(zip(df[1], df[0])),\n",
    "                \"address-to-skyrim\": dict(zip(df[0], df[1])),\n",
    "            }\n",
    "\n",
    "\n",
    "with open('data/offsets.json', 'w') as f:\n",
    "    f.write(json.dumps(offsets))\n"
   ]
  },
  {
   "cell_type": "code",
   "execution_count": 7,
   "metadata": {},
   "outputs": [],
   "source": [
    "\n",
    "import pandas as pd\n",
    "import json \n",
    "\n",
    "\n",
    "df2 = pd.read_csv(\"data/known-addresses.txt\", sep=';', header=None)\n",
    "\n",
    "addressMap = {\n",
    "    \"ae\":{},\n",
    "    \"se\":{}\n",
    "}\n",
    "\n",
    "for index, row in df2.iterrows():\n",
    "    addressMap[\"ae\"][row[2]] = {\n",
    "        \"pair\":row[1],\n",
    "        \"name\":f\"known_{row[0]}\"\n",
    "    }\n",
    "    addressMap[\"se\"][row[1]] = {\n",
    "        \"pair\":row[2],\n",
    "        \"name\":f\"known__{row[0]}\"\n",
    "    }\n",
    "\n",
    "with open('data/known-addresses.json', 'w') as f:\n",
    "    f.write(json.dumps(addressMap))\n"
   ]
  }
 ],
 "metadata": {
  "kernelspec": {
   "display_name": "torch",
   "language": "python",
   "name": "python3"
  },
  "language_info": {
   "codemirror_mode": {
    "name": "ipython",
    "version": 3
   },
   "file_extension": ".py",
   "mimetype": "text/x-python",
   "name": "python",
   "nbconvert_exporter": "python",
   "pygments_lexer": "ipython3",
   "version": "3.12.2"
  }
 },
 "nbformat": 4,
 "nbformat_minor": 2
}
