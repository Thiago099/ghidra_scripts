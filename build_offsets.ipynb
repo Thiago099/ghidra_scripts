{
 "cells": [
  {
   "cell_type": "code",
   "execution_count": 3,
   "metadata": {},
   "outputs": [],
   "source": [
    "\n",
    "import pandas as pd\n",
    "import json \n",
    "\n",
    "\n",
    "versions = [\n",
    "    \"1.5.97.0\",\n",
    "    \"1.6.1170\"\n",
    "]\n",
    "offsets = {}\n",
    "for version in versions:\n",
    "    df = pd.read_csv(\"data/offsets-\"+version+\".txt\", sep='\\t', header=None)\n",
    "    df[0] = df[0].apply(lambda x: int(x))\n",
    "    df[1] = df[1].apply(lambda x: \"0x\"+x)\n",
    "\n",
    "    offsets[version]={\n",
    "        \"skyrim-to-address\": dict(zip(df[1], df[0])),\n",
    "        \"address-to-skyrim\": dict(zip(df[0], df[1])),\n",
    "    }\n",
    "\n",
    "with open('data/offsets.json', 'w') as f:\n",
    "    f.write(json.dumps(offsets))\n"
   ]
  }
 ],
 "metadata": {
  "kernelspec": {
   "display_name": "torch",
   "language": "python",
   "name": "python3"
  },
  "language_info": {
   "codemirror_mode": {
    "name": "ipython",
    "version": 3
   },
   "file_extension": ".py",
   "mimetype": "text/x-python",
   "name": "python",
   "nbconvert_exporter": "python",
   "pygments_lexer": "ipython3",
   "version": "3.12.2"
  }
 },
 "nbformat": 4,
 "nbformat_minor": 2
}
