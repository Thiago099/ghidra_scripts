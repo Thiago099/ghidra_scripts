{
 "cells": [
  {
   "cell_type": "code",
   "execution_count": 23,
   "metadata": {},
   "outputs": [],
   "source": [
    "\n",
    "import re\n",
    "import json\n",
    "import pandas as pd\n",
    "def buildOffsets(path):\n",
    "    df = pd.read_csv(path, sep='\\t', header=None)\n",
    "    df.head()\n",
    "    df[0] = df[0].apply(lambda x: str(int(x)))\n",
    "    df[1] = df[1].apply(lambda x: (x.lower()))\n",
    "    return {\n",
    "        \"skyrim-to-address\": dict(zip(df[1], df[0])),\n",
    "        \"address-to-skyrim\": dict(zip(df[0], df[1])),\n",
    "    }\n",
    "\n",
    "offsets318 = buildOffsets(\"offsets-1-6-318-0.txt\")\n",
    "offsets97 = buildOffsets(\"offsets-se-1.5.97.0.txt\")"
   ]
  },
  {
   "cell_type": "code",
   "execution_count": 24,
   "metadata": {},
   "outputs": [],
   "source": [
    "\n",
    "import pandas as pd\n",
    "import json \n",
    "\n",
    "\n",
    "df2 = pd.read_csv(\"known-addresses.txt\", sep=';', header=None)\n",
    "\n",
    "result_obj = {}\n",
    "\n",
    "\n",
    "for index, row in df2.iterrows():\n",
    "    result_obj[row[1]] = {\n",
    "        \"name\":row[0]\n",
    "    }\n",
    "\n",
    "with open('known-addresses.json', 'w') as f:\n",
    "    f.write(json.dumps(result_obj))"
   ]
  },
  {
   "cell_type": "code",
   "execution_count": 25,
   "metadata": {},
   "outputs": [
    {
     "name": "stdout",
     "output_type": "stream",
     "text": [
      "204420\n"
     ]
    }
   ],
   "source": [
    "import re\n",
    "import json\n",
    "with open('input.txt', 'r') as file:\n",
    "    text = file.read()\n",
    "\n",
    "pattern = r\"(NameAddr|TypeAddr)\\s*\\(\\s*([^,]+)\\s*,\\s*\\\"(.*)\\\"\\s*\\)\\s*\"\n",
    "\n",
    "for match in re.finditer(pattern, text):\n",
    "    if(match.group(1)):\n",
    "        key = offsets97[\"skyrim-to-address\"][match.group(2)[4:].lstrip(\"0\").lower()]\n",
    "        if(key not in result_obj):\n",
    "            result_obj[key] = {}\n",
    "        if(match.group(1) == \"NameAddr\"):\n",
    "            result_obj[key][\"name\"] = re.sub(r\"_14[^_]+$\", \"\", match.group(3))\n",
    "        else:\n",
    "            result_obj[key][\"definition\"] = match.group(3)\n",
    "\n",
    "print(len(result_obj.keys()))\n",
    "with open(\"definition.json\", \"w\") as file:\n",
    "    file.write(json.dumps(result_obj))"
   ]
  },
  {
   "cell_type": "code",
   "execution_count": 26,
   "metadata": {},
   "outputs": [
    {
     "name": "stdout",
     "output_type": "stream",
     "text": [
      "259868\n"
     ]
    }
   ],
   "source": [
    "\n",
    "\n",
    "with open('outputsorted.txt', 'r') as file:\n",
    "    text = file.read()\n",
    "\n",
    "pattern = r\"^.*?14([a-zA-Z0-9]+)\\s+14([a-zA-Z0-9]+)\"\n",
    "\n",
    "result_obj = {\"ae\":{},\"se\":{}}\n",
    "\n",
    "\n",
    "\n",
    "for match in re.finditer(pattern, text, re.MULTILINE):\n",
    "    if(match.group(1)):\n",
    "        seid = match.group(1).lstrip('0').lower()\n",
    "        aeid = match.group(2).lstrip('0').lower()\n",
    "\n",
    "        if(aeid in offsets318[\"skyrim-to-address\"] and seid in offsets97[\"skyrim-to-address\"]):\n",
    "            ae = offsets318[\"skyrim-to-address\"][aeid]\n",
    "            se = offsets97[\"skyrim-to-address\"][seid]\n",
    "            result_obj[\"ae\"][ae] = se\n",
    "            result_obj[\"se\"][se] = ae\n",
    "\n",
    "with open(\"addresses_match.json\", \"w\") as file:\n",
    "    file.write(json.dumps(result_obj))\n",
    "print(len(result_obj[\"se\"].keys()))"
   ]
  },
  {
   "cell_type": "code",
   "execution_count": 27,
   "metadata": {},
   "outputs": [
    {
     "name": "stdout",
     "output_type": "stream",
     "text": [
      "259918\n"
     ]
    },
    {
     "ename": "",
     "evalue": "",
     "output_type": "error",
     "traceback": [
      "\u001b[1;31mThe Kernel crashed while executing code in the current cell or a previous cell. \n",
      "\u001b[1;31mPlease review the code in the cell(s) to identify a possible cause of the failure. \n",
      "\u001b[1;31mClick <a href='https://aka.ms/vscodeJupyterKernelCrash'>here</a> for more info. \n",
      "\u001b[1;31mView Jupyter <a href='command:jupyter.viewOutput'>log</a> for further details."
     ]
    }
   ],
   "source": [
    "\n",
    "import pandas as pd\n",
    "import json \n",
    "\n",
    "\n",
    "df2 = pd.read_csv(\"known-addresses.txt\", sep=';', header=None)\n",
    "\n",
    "for index, row in df2.iterrows():\n",
    "    result_obj[\"ae\"][str(row[2])] = str(row[1])\n",
    "    result_obj[\"se\"][str(row[1])] = str(row[2])\n",
    "\n",
    "with open(\"addresses_match.json\", \"w\") as file:\n",
    "    file.write(json.dumps(result_obj))\n",
    "\n",
    "print(len(result_obj[\"se\"].keys()))"
   ]
  }
 ],
 "metadata": {
  "kernelspec": {
   "display_name": "torch",
   "language": "python",
   "name": "python3"
  },
  "language_info": {
   "codemirror_mode": {
    "name": "ipython",
    "version": 3
   },
   "file_extension": ".py",
   "mimetype": "text/x-python",
   "name": "python",
   "nbconvert_exporter": "python",
   "pygments_lexer": "ipython3",
   "version": "3.12.2"
  }
 },
 "nbformat": 4,
 "nbformat_minor": 2
}
