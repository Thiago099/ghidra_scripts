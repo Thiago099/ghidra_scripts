{
 "cells": [
  {
   "cell_type": "code",
   "execution_count": 30,
   "metadata": {},
   "outputs": [],
   "source": [
    "import re\n",
    "with open('input.txt', 'r') as file:\n",
    "    text = file.read()\n",
    "pattern = r\"(?:([^\\s]*)\\s+=\\s+RELOCATION_ID\\((.*?),(.*?)\\))|(?:namespace (.*))\"\n",
    "\n",
    "\n",
    "result = \"\"\n",
    "namespace = \"\"\n",
    "\n",
    "for match in re.finditer(pattern, text):\n",
    "    if(match.group(4)):\n",
    "        namespace = match.group(4).strip()\n",
    "    else:\n",
    "        result += f\"{namespace};{match.group(1).strip()};{match.group(2).strip()};{match.group(3).strip()};\\n\" \n",
    "\n",
    "with open(\"output.txt\", \"w\") as file:\n",
    "    file.write(result)"
   ]
  },
  {
   "cell_type": "code",
   "execution_count": 25,
   "metadata": {},
   "outputs": [],
   "source": [
    "import re\n",
    "import os\n",
    "\n",
    "def readFile(path):\n",
    "    file_name, file_extension = os.path.splitext(path)\n",
    "\n",
    "\n",
    "    \n",
    "    if file_extension != '.cpp' and file_extension != '.h':\n",
    "        return\n",
    "    \n",
    "\n",
    "    with open(path, 'r') as file:\n",
    "        text = file.read()\n",
    "\n",
    "    pattern = r\"(?:(?:class|namespace)\\s*(\\w+))|(?:(\\w+)\\(.*\\)[\\n\\s\\->\\w/]*{)|(?:RELOCATION_ID\\((.*?),(.*?)\\))\"\n",
    "\n",
    "    namespace = \"\"\n",
    "    function = \"\"\n",
    "    result = \"\"\n",
    "\n",
    "    for match in re.finditer(pattern, text):\n",
    "        if(match.group(1)):\n",
    "            namespace = match.group(1).strip()\n",
    "        elif(match.group(2)):\n",
    "            function = match.group(2).strip()\n",
    "        else:\n",
    "            result += f\"{namespace};{function};{match.group(3).strip()};{match.group(4).strip()};\\n\" \n",
    "\n",
    "    with open(\"output.txt\", \"a+\") as file:\n",
    "        file.write(result)\n",
    "\n",
    "my_set = set()\n",
    "for root, dirs, files in os.walk(\"input\"):\n",
    "    for file in files:\n",
    "        file_path = os.path.join(root, file)\n",
    "        my_set.add(file_path)\n",
    "\n",
    "for item in my_set:\n",
    "    readFile(item)\n"
   ]
  }
 ],
 "metadata": {
  "kernelspec": {
   "display_name": "torch",
   "language": "python",
   "name": "python3"
  },
  "language_info": {
   "codemirror_mode": {
    "name": "ipython",
    "version": 3
   },
   "file_extension": ".py",
   "mimetype": "text/x-python",
   "name": "python",
   "nbconvert_exporter": "python",
   "pygments_lexer": "ipython3",
   "version": "3.12.2"
  }
 },
 "nbformat": 4,
 "nbformat_minor": 2
}
